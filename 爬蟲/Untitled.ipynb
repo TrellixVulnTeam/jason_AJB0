{
 "cells": [
  {
   "cell_type": "code",
   "execution_count": 1,
   "metadata": {
    "collapsed": true
   },
   "outputs": [],
   "source": [
    "import requests\n",
    "import pandas as pd\n",
    "from bs4 import BeautifulSoup\n",
    "from urllib.request import urlopen\n",
    "import urllib\n",
    "import re\n",
    "\n",
    "headers = {\t\n",
    "'User-Agen' : 'Mozilla/5.0 (Macintosh; Intel Mac OS X 10_12_5) AppleWebKit/537.36(KHTML,like Gecko)Chrome/59.0.3071.115 Safari/537.36'\n",
    "}\n",
    "\n",
    "\n",
    "form_data = {\n",
    "\"__VIEWSTATE\": \"OnyV8/Xd10fkic/c/4FX47RcEguciLijFUdLRlP+5DEVj7nj6aDQTpGDBp/wwgU4Z+Ztnf6fJAVD4ZrcW27WlJHfX4TgtHK+xxJaRhY8ULG7CG0qc6Up35bJGFc=\",\n",
    "\"__VIEWSTATEGENERATOR\": \"CA0B0334\",\n",
    "\"Foi$cph_content$ddlTypeID\": \"0\",\n",
    "\"Foi$cph_content$ddl_page\": \"100\",\n",
    "\"Foi$cph_content$ddl_ResultKind\": \"0\",\n",
    "\n",
    "\"Foi$cph_content$ddlVerticals\": \"0\",\n",
    "\"Foi$cph_content$dll_BCase\": \"評\",\n",
    "\n",
    "\"Foi$cph_content$btn_submit\": \"送出查詢\",\n",
    "\"Foi$cph_content$ddlOrderBy\": \"1\",\n",
    "\"Foi$cph_content$hSort\": \"1\",\n",
    "\"Foi$cph_content$HFrecCurrentPage\": \"1\",\n",
    "\"Foi$cph_content$HFRecordCount\": \"100\",\n",
    "\"Foi$cph_content$HFrecPageCount\": \"1\"\n",
    "}\n",
    "\n",
    "\n",
    "res = requests.post('https://ods.foi.org.tw', headers=headers, data = form_data)\n",
    "res.encoding = 'utf-8'\n",
    "soup = BeautifulSoup(res.text, 'html.parser')\n",
    "images = soup.select('a[href^=download.aspx?article=]')\n",
    "\n",
    "#images = '\\n'.join(map(str, images))\n",
    "#r = re.compile(r'aspx')\n",
    "#newlist = list(filter(r.match, images1)) # Read \n",
    "\n"
   ]
  },
  {
   "cell_type": "code",
   "execution_count": 2,
   "metadata": {
    "collapsed": true
   },
   "outputs": [],
   "source": [
    "pid = soup.findAll('a',)\n",
    "t = []\n",
    "for i in pid:\n",
    "    \n",
    "    t.append(i.get('href'))\n",
    "    \n",
    "#s = soup.find(href=re.compile(\"^download.aspx\"))\n",
    "#print(s)\n",
    "t1 = pd.DataFrame(t)\n",
    "t2 = t1.iloc[4:103,:]\n",
    "t2.head(5)\n",
    "t3 = t2[0].values.tolist()\n",
    "\n"
   ]
  },
  {
   "cell_type": "code",
   "execution_count": 4,
   "metadata": {
    "collapsed": true
   },
   "outputs": [],
   "source": [
    "#images = pd.DataFrame(images)\n",
    "#images1 = images.to_string()\n",
    "#images12 = '\\n'.join(line.lstrip() for line in images1.splitlines())\n",
    "#images12"
   ]
  },
  {
   "cell_type": "code",
   "execution_count": 5,
   "metadata": {
    "collapsed": true
   },
   "outputs": [],
   "source": [
    "x = \"https://ods.foi.org.tw\"\n",
    "states_list = x.split(' ')"
   ]
  },
  {
   "cell_type": "code",
   "execution_count": 53,
   "metadata": {},
   "outputs": [
    {
     "data": {
      "text/plain": [
       "str"
      ]
     },
     "execution_count": 53,
     "metadata": {},
     "output_type": "execute_result"
    }
   ],
   "source": [
    "type(states_list[0])"
   ]
  },
  {
   "cell_type": "code",
   "execution_count": 38,
   "metadata": {},
   "outputs": [],
   "source": [
    "a = list()\n",
    "s = \"https://ods.foi.org.tw/\"\n",
    "for i in range(1,2):\n",
    "    s = t3.append(s)\n",
    "    a.append(s)\n",
    "    \n",
    "    \n",
    "    "
   ]
  },
  {
   "cell_type": "code",
   "execution_count": 39,
   "metadata": {},
   "outputs": [
    {
     "data": {
      "text/plain": [
       "[None]"
      ]
     },
     "execution_count": 39,
     "metadata": {},
     "output_type": "execute_result"
    }
   ],
   "source": [
    "a"
   ]
  },
  {
   "cell_type": "code",
   "execution_count": null,
   "metadata": {},
   "outputs": [],
   "source": [
    "f = lambda a:map(lambda b:a[b:b+1],range(0,len(a),1))\n",
    "c = f(g)\n",
    "c"
   ]
  },
  {
   "cell_type": "code",
   "execution_count": 54,
   "metadata": {},
   "outputs": [
    {
     "ename": "TypeError",
     "evalue": "string indices must be integers",
     "output_type": "error",
     "traceback": [
      "\u001b[0;31m---------------------------------------------------------------------------\u001b[0m",
      "\u001b[0;31mTypeError\u001b[0m                                 Traceback (most recent call last)",
      "\u001b[0;32m<ipython-input-54-bae61fbcd23d>\u001b[0m in \u001b[0;36m<module>\u001b[0;34m()\u001b[0m\n\u001b[1;32m      4\u001b[0m \u001b[0;34m\u001b[0m\u001b[0m\n\u001b[1;32m      5\u001b[0m \u001b[0;32mfor\u001b[0m \u001b[0mimage\u001b[0m \u001b[0;32min\u001b[0m \u001b[0mt3\u001b[0m\u001b[0;34m:\u001b[0m\u001b[0;34m\u001b[0m\u001b[0m\n\u001b[0;32m----> 6\u001b[0;31m         \u001b[0mprint\u001b[0m\u001b[0;34m(\u001b[0m\u001b[0mimage\u001b[0m\u001b[0;34m[\u001b[0m\u001b[0;34m'href'\u001b[0m\u001b[0;34m]\u001b[0m\u001b[0;34m)\u001b[0m\u001b[0;34m\u001b[0m\u001b[0m\n\u001b[0m\u001b[1;32m      7\u001b[0m         \u001b[0mfilename\u001b[0m \u001b[0;34m=\u001b[0m \u001b[0mimage\u001b[0m\u001b[0;34m[\u001b[0m\u001b[0;34m'href'\u001b[0m\u001b[0;34m]\u001b[0m\u001b[0;34m\u001b[0m\u001b[0m\n\u001b[1;32m      8\u001b[0m         \u001b[0mimg\u001b[0m \u001b[0;34m=\u001b[0m \u001b[0murlopen\u001b[0m\u001b[0;34m(\u001b[0m\u001b[0mimage\u001b[0m\u001b[0;34m[\u001b[0m\u001b[0;34m'href'\u001b[0m\u001b[0;34m]\u001b[0m\u001b[0;34m)\u001b[0m\u001b[0;34m\u001b[0m\u001b[0m\n",
      "\u001b[0;31mTypeError\u001b[0m: string indices must be integers"
     ]
    }
   ],
   "source": [
    "\n",
    "\n",
    "\n",
    "\n",
    "for image in t3:\n",
    "\tprint(image['href'])\n",
    "\tfilename = image['href']\n",
    "\timg = urlopen(image['href'])\n",
    "\twith open('./download/' + str(filename), 'wb') as f:\n",
    "\t\tf.write(img.read())"
   ]
  },
  {
   "cell_type": "code",
   "execution_count": null,
   "metadata": {
    "collapsed": true
   },
   "outputs": [],
   "source": []
  },
  {
   "cell_type": "code",
   "execution_count": null,
   "metadata": {
    "collapsed": true
   },
   "outputs": [],
   "source": []
  }
 ],
 "metadata": {
  "kernelspec": {
   "display_name": "Python 3",
   "language": "python",
   "name": "python3"
  },
  "language_info": {
   "codemirror_mode": {
    "name": "ipython",
    "version": 3
   },
   "file_extension": ".py",
   "mimetype": "text/x-python",
   "name": "python",
   "nbconvert_exporter": "python",
   "pygments_lexer": "ipython3",
   "version": "3.5.4"
  }
 },
 "nbformat": 4,
 "nbformat_minor": 2
}
