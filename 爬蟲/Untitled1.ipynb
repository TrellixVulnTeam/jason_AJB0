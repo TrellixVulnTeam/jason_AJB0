{
 "cells": [
  {
   "cell_type": "code",
   "execution_count": 53,
   "metadata": {
    "collapsed": true
   },
   "outputs": [],
   "source": [
    "import requests\n",
    "import pandas as pd\n",
    "from bs4 import BeautifulSoup\n",
    "from urllib.request import urlopen\n",
    "import urllib\n",
    "import re\n",
    "\n",
    "headers = {\t\n",
    "'User-Agen' : 'Mozilla/5.0 (Macintosh; Intel Mac OS X 10_12_5) AppleWebKit/537.36(KHTML,like Gecko)Chrome/59.0.3071.115 Safari/537.36'\n",
    "}\n",
    "\n",
    "\n",
    "form_data = {\n",
    "\"__VIEWSTATE\": \"OnyV8/Xd10fkic/c/4FX47RcEguciLijFUdLRlP+5DEVj7nj6aDQTpGDBp/wwgU4Z+Ztnf6fJAVD4ZrcW27WlJHfX4TgtHK+xxJaRhY8ULG7CG0qc6Up35bJGFc=\",\n",
    "\"__VIEWSTATEGENERATOR\": \"CA0B0334\",\n",
    "\"Foi$cph_content$ddlTypeID\": \"0\",\n",
    "\"Foi$cph_content$ddl_page\": \"100\",\n",
    "\"Foi$cph_content$ddl_ResultKind\": \"0\",\n",
    "\n",
    "\"Foi$cph_content$ddlVerticals\": \"0\",\n",
    "\"Foi$cph_content$dll_BCase\": \"評\",\n",
    "\n",
    "\"Foi$cph_content$btn_submit\": \"送出查詢\",\n",
    "\"Foi$cph_content$ddlOrderBy\": \"1\",\n",
    "\"Foi$cph_content$hSort\": \"1\",\n",
    "\"Foi$cph_content$HFrecCurrentPage\": \"1\",\n",
    "\"Foi$cph_content$HFRecordCount\": \"100\",\n",
    "\"Foi$cph_content$HFrecPageCount\": \"1\"\n",
    "}\n",
    "\n",
    "\n",
    "res = requests.post('https://ods.foi.org.tw', headers=headers, data = form_data)\n",
    "res.encoding = 'utf-8'\n",
    "soup = BeautifulSoup(res.text, 'html.parser')\n",
    "images = soup.select('a[href^=download.aspx?article=]')"
   ]
  },
  {
   "cell_type": "code",
   "execution_count": 54,
   "metadata": {},
   "outputs": [
    {
     "data": {
      "text/plain": [
       "'pid = soup.findAll(\\'a\\',)\\nt = []\\nfor i in pid:\\n    \\n    t.append(i.get(\\'href\\'))\\n    \\n#s = soup.find(href=re.compile(\"^download.aspx\"))\\n#print(s)\\nt1 = pd.DataFrame(t)\\nt2 = t1.iloc[4:103,:]\\nt2.head(5)\\nt3 = t2[0].values.tolist()'"
      ]
     },
     "execution_count": 54,
     "metadata": {},
     "output_type": "execute_result"
    }
   ],
   "source": [
    "'''pid = soup.findAll('a',)\n",
    "t = []\n",
    "for i in pid:\n",
    "    \n",
    "    t.append(i.get('href'))\n",
    "    \n",
    "#s = soup.find(href=re.compile(\"^download.aspx\"))\n",
    "#print(s)\n",
    "t1 = pd.DataFrame(t)\n",
    "t2 = t1.iloc[4:103,:]\n",
    "t2.head(5)\n",
    "t3 = t2[0].values.tolist()'''"
   ]
  },
  {
   "cell_type": "code",
   "execution_count": null,
   "metadata": {},
   "outputs": [
    {
     "data": {
      "text/plain": [
       "'https://ods.foi.org.tw/download.aspx?article=1070003427  '"
      ]
     },
     "execution_count": 55,
     "metadata": {},
     "output_type": "execute_result"
    }
   ],
   "source": [
    "a = 'https://ods.foi.org.tw/'+image['href']\n",
    "a"
   ]
  },
  {
   "cell_type": "code",
   "execution_count": null,
   "metadata": {},
   "outputs": [
    {
     "name": "stdout",
     "output_type": "stream",
     "text": [
      "download.aspx?article=1070003078  \n",
      "download.aspx?article=1070006048  \n",
      "download.aspx?article=1070000625  \n",
      "download.aspx?article=1070001971  \n",
      "download.aspx?article=1070002106  \n",
      "download.aspx?article=1070002596  \n",
      "download.aspx?article=1070002936  \n",
      "download.aspx?article=1070003029  \n",
      "download.aspx?article=1070003168  \n",
      "download.aspx?article=1070003427  \n",
      "download.aspx?article=1070003972  \n",
      "download.aspx?article=1070004107  \n",
      "download.aspx?article=1070005308  \n",
      "download.aspx?article=1070006128  \n",
      "download.aspx?article=1070002375  \n",
      "download.aspx?article=1070002190  \n",
      "download.aspx?article=1070004573  \n",
      "download.aspx?article=1070004828  \n",
      "download.aspx?article=1070005877  \n",
      "download.aspx?article=1070006453  \n",
      "download.aspx?article=1070004834  \n",
      "download.aspx?article=1070005001  \n",
      "download.aspx?article=1070004932  \n",
      "download.aspx?article=1060015567  \n",
      "download.aspx?article=1060016325  \n",
      "download.aspx?article=1060016623  \n",
      "download.aspx?article=1060016694  \n",
      "download.aspx?article=1060016871  \n",
      "download.aspx?article=1060016892  \n",
      "download.aspx?article=1070000288  \n",
      "download.aspx?article=1070000573  \n",
      "download.aspx?article=1070001206  \n",
      "download.aspx?article=1070001209  \n",
      "download.aspx?article=1070001444  \n",
      "download.aspx?article=1070001522  \n",
      "download.aspx?article=1070001969  \n",
      "download.aspx?article=1070002040  \n",
      "download.aspx?article=1070002429  \n",
      "download.aspx?article=1070002768  \n",
      "download.aspx?article=1070002991  \n",
      "download.aspx?article=1070003598  \n",
      "download.aspx?article=1070003805  \n",
      "download.aspx?article=1070003891  \n",
      "download.aspx?article=1070003967  \n",
      "download.aspx?article=1070004041  \n"
     ]
    }
   ],
   "source": [
    "for image in images:\n",
    "\tprint(image['href'])\n",
    "\tfilename = 'https://ods.foi.org.tw/'+image['href']\n",
    "\timg = urlopen(filename)\n",
    "\twith open('./download/' + str(image['href']), 'wb') as f:\n",
    "\t\tf.write(img.read())"
   ]
  },
  {
   "cell_type": "code",
   "execution_count": null,
   "metadata": {
    "collapsed": true
   },
   "outputs": [],
   "source": []
  },
  {
   "cell_type": "code",
   "execution_count": null,
   "metadata": {
    "collapsed": true
   },
   "outputs": [],
   "source": []
  }
 ],
 "metadata": {
  "kernelspec": {
   "display_name": "Python 3",
   "language": "python",
   "name": "python3"
  },
  "language_info": {
   "codemirror_mode": {
    "name": "ipython",
    "version": 3
   },
   "file_extension": ".py",
   "mimetype": "text/x-python",
   "name": "python",
   "nbconvert_exporter": "python",
   "pygments_lexer": "ipython3",
   "version": "3.5.4"
  }
 },
 "nbformat": 4,
 "nbformat_minor": 2
}
